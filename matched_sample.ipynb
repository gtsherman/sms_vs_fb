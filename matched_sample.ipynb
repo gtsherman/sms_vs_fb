{
 "cells": [
  {
   "cell_type": "code",
   "execution_count": 2,
   "metadata": {},
   "outputs": [],
   "source": [
    "import numpy as np\n",
    "import pandas as pd\n",
    "\n",
    "from plotnine import *\n",
    "from sqlalchemy import create_engine"
   ]
  },
  {
   "cell_type": "code",
   "execution_count": 3,
   "metadata": {},
   "outputs": [],
   "source": [
    "eng = create_engine('mysql://127.0.0.1/sms_fb?read_default_file=~/.my.cnf&charset=utf8mb4')"
   ]
  },
  {
   "cell_type": "code",
   "execution_count": 4,
   "metadata": {},
   "outputs": [
    {
     "data": {
      "text/html": [
       "<div>\n",
       "<style scoped>\n",
       "    .dataframe tbody tr th:only-of-type {\n",
       "        vertical-align: middle;\n",
       "    }\n",
       "\n",
       "    .dataframe tbody tr th {\n",
       "        vertical-align: top;\n",
       "    }\n",
       "\n",
       "    .dataframe thead th {\n",
       "        text-align: right;\n",
       "    }\n",
       "</style>\n",
       "<table border=\"1\" class=\"dataframe\">\n",
       "  <thead>\n",
       "    <tr style=\"text-align: right;\">\n",
       "      <th></th>\n",
       "      <th>activity</th>\n",
       "      <th>age</th>\n",
       "      <th>gender</th>\n",
       "      <th>android_check</th>\n",
       "      <th>fb_user_id</th>\n",
       "      <th>sms_user_id</th>\n",
       "    </tr>\n",
       "  </thead>\n",
       "  <tbody>\n",
       "    <tr>\n",
       "      <th>0</th>\n",
       "      <td>R_29gYxinH5R1iJpQ</td>\n",
       "      <td>30.0</td>\n",
       "      <td>2.0</td>\n",
       "      <td>2.0</td>\n",
       "      <td>10158757293721897</td>\n",
       "      <td>None</td>\n",
       "    </tr>\n",
       "    <tr>\n",
       "      <th>1</th>\n",
       "      <td>R_1Nsmw9Pf8xLdMAK</td>\n",
       "      <td>29.0</td>\n",
       "      <td>1.0</td>\n",
       "      <td>2.0</td>\n",
       "      <td>10219344023491608</td>\n",
       "      <td>None</td>\n",
       "    </tr>\n",
       "    <tr>\n",
       "      <th>2</th>\n",
       "      <td>R_2axIFcDreGO9A1E</td>\n",
       "      <td>29.0</td>\n",
       "      <td>1.0</td>\n",
       "      <td>2.0</td>\n",
       "      <td>10164291780836337</td>\n",
       "      <td>None</td>\n",
       "    </tr>\n",
       "    <tr>\n",
       "      <th>3</th>\n",
       "      <td>R_XH9VGGqTNJHzuSJ</td>\n",
       "      <td>53.0</td>\n",
       "      <td>1.0</td>\n",
       "      <td>2.0</td>\n",
       "      <td>3811016502253166</td>\n",
       "      <td>R_XH9VGGqTNJHzuSJ</td>\n",
       "    </tr>\n",
       "    <tr>\n",
       "      <th>4</th>\n",
       "      <td>R_1oupORlxMUhXkby</td>\n",
       "      <td>32.0</td>\n",
       "      <td>2.0</td>\n",
       "      <td>2.0</td>\n",
       "      <td>474411093965925</td>\n",
       "      <td>R_1oupORlxMUhXkby</td>\n",
       "    </tr>\n",
       "  </tbody>\n",
       "</table>\n",
       "</div>"
      ],
      "text/plain": [
       "            activity   age  gender  android_check         fb_user_id  \\\n",
       "0  R_29gYxinH5R1iJpQ  30.0     2.0            2.0  10158757293721897   \n",
       "1  R_1Nsmw9Pf8xLdMAK  29.0     1.0            2.0  10219344023491608   \n",
       "2  R_2axIFcDreGO9A1E  29.0     1.0            2.0  10164291780836337   \n",
       "3  R_XH9VGGqTNJHzuSJ  53.0     1.0            2.0   3811016502253166   \n",
       "4  R_1oupORlxMUhXkby  32.0     2.0            2.0    474411093965925   \n",
       "\n",
       "         sms_user_id  \n",
       "0               None  \n",
       "1               None  \n",
       "2               None  \n",
       "3  R_XH9VGGqTNJHzuSJ  \n",
       "4  R_1oupORlxMUhXkby  "
      ]
     },
     "execution_count": 4,
     "metadata": {},
     "output_type": "execute_result"
    }
   ],
   "source": [
    "sql = \"\"\"\n",
    "SELECT activity, age, gender, android_check, da.fb_user_id, sms_user_id\n",
    "FROM baseline_data_targ\n",
    "JOIN data_activity da\n",
    "ON activity = record_idn\n",
    "WHERE da.fb_user_id in (SELECT DISTINCT fb_user_id FROM fb_posts)\n",
    "OR sms_user_id in (SELECT DISTINCT userId FROM sms_data)\n",
    "\"\"\"\n",
    "baseline_raw = pd.read_sql(sql, eng)\n",
    "baseline = baseline_raw.copy()\n",
    "baseline.head()"
   ]
  },
  {
   "cell_type": "code",
   "execution_count": 5,
   "metadata": {},
   "outputs": [
    {
     "data": {
      "text/plain": [
       "android_check\n",
       "1.0    792\n",
       "2.0    344\n",
       "Name: android_check, dtype: int64"
      ]
     },
     "execution_count": 5,
     "metadata": {},
     "output_type": "execute_result"
    }
   ],
   "source": [
    "baseline.groupby('android_check')['android_check'].count()"
   ]
  },
  {
   "cell_type": "code",
   "execution_count": 6,
   "metadata": {},
   "outputs": [
    {
     "data": {
      "text/plain": [
       "36.0"
      ]
     },
     "execution_count": 6,
     "metadata": {},
     "output_type": "execute_result"
    }
   ],
   "source": [
    "median_age = baseline.age.median()\n",
    "median_age"
   ]
  },
  {
   "cell_type": "code",
   "execution_count": 7,
   "metadata": {},
   "outputs": [
    {
     "data": {
      "text/html": [
       "<div>\n",
       "<style scoped>\n",
       "    .dataframe tbody tr th:only-of-type {\n",
       "        vertical-align: middle;\n",
       "    }\n",
       "\n",
       "    .dataframe tbody tr th {\n",
       "        vertical-align: top;\n",
       "    }\n",
       "\n",
       "    .dataframe thead th {\n",
       "        text-align: right;\n",
       "    }\n",
       "</style>\n",
       "<table border=\"1\" class=\"dataframe\">\n",
       "  <thead>\n",
       "    <tr style=\"text-align: right;\">\n",
       "      <th></th>\n",
       "      <th>activity</th>\n",
       "      <th>age</th>\n",
       "      <th>gender</th>\n",
       "      <th>android_check</th>\n",
       "      <th>fb_user_id</th>\n",
       "      <th>sms_user_id</th>\n",
       "      <th>is_young</th>\n",
       "    </tr>\n",
       "  </thead>\n",
       "  <tbody>\n",
       "    <tr>\n",
       "      <th>0</th>\n",
       "      <td>R_29gYxinH5R1iJpQ</td>\n",
       "      <td>30.0</td>\n",
       "      <td>F</td>\n",
       "      <td>Android</td>\n",
       "      <td>10158757293721897</td>\n",
       "      <td>None</td>\n",
       "      <td>1</td>\n",
       "    </tr>\n",
       "    <tr>\n",
       "      <th>1</th>\n",
       "      <td>R_1Nsmw9Pf8xLdMAK</td>\n",
       "      <td>29.0</td>\n",
       "      <td>M</td>\n",
       "      <td>Android</td>\n",
       "      <td>10219344023491608</td>\n",
       "      <td>None</td>\n",
       "      <td>1</td>\n",
       "    </tr>\n",
       "    <tr>\n",
       "      <th>2</th>\n",
       "      <td>R_2axIFcDreGO9A1E</td>\n",
       "      <td>29.0</td>\n",
       "      <td>M</td>\n",
       "      <td>Android</td>\n",
       "      <td>10164291780836337</td>\n",
       "      <td>None</td>\n",
       "      <td>1</td>\n",
       "    </tr>\n",
       "    <tr>\n",
       "      <th>3</th>\n",
       "      <td>R_XH9VGGqTNJHzuSJ</td>\n",
       "      <td>53.0</td>\n",
       "      <td>M</td>\n",
       "      <td>Android</td>\n",
       "      <td>3811016502253166</td>\n",
       "      <td>R_XH9VGGqTNJHzuSJ</td>\n",
       "      <td>0</td>\n",
       "    </tr>\n",
       "    <tr>\n",
       "      <th>4</th>\n",
       "      <td>R_1oupORlxMUhXkby</td>\n",
       "      <td>32.0</td>\n",
       "      <td>F</td>\n",
       "      <td>Android</td>\n",
       "      <td>474411093965925</td>\n",
       "      <td>R_1oupORlxMUhXkby</td>\n",
       "      <td>1</td>\n",
       "    </tr>\n",
       "  </tbody>\n",
       "</table>\n",
       "</div>"
      ],
      "text/plain": [
       "            activity   age gender android_check         fb_user_id  \\\n",
       "0  R_29gYxinH5R1iJpQ  30.0      F       Android  10158757293721897   \n",
       "1  R_1Nsmw9Pf8xLdMAK  29.0      M       Android  10219344023491608   \n",
       "2  R_2axIFcDreGO9A1E  29.0      M       Android  10164291780836337   \n",
       "3  R_XH9VGGqTNJHzuSJ  53.0      M       Android   3811016502253166   \n",
       "4  R_1oupORlxMUhXkby  32.0      F       Android    474411093965925   \n",
       "\n",
       "         sms_user_id  is_young  \n",
       "0               None         1  \n",
       "1               None         1  \n",
       "2               None         1  \n",
       "3  R_XH9VGGqTNJHzuSJ         0  \n",
       "4  R_1oupORlxMUhXkby         1  "
      ]
     },
     "execution_count": 7,
     "metadata": {},
     "output_type": "execute_result"
    }
   ],
   "source": [
    "baseline['is_young'] = np.where(baseline['age'] < median_age, 1, 0)\n",
    "baseline['gender'] = np.where(baseline['gender'] == 1.0, 'M', 'F')\n",
    "baseline['android_check'] = np.where(baseline['android_check'] == 1.0, 'iPhone', 'Android')\n",
    "baseline.head()"
   ]
  },
  {
   "cell_type": "code",
   "execution_count": 8,
   "metadata": {},
   "outputs": [
    {
     "data": {
      "text/html": [
       "<div>\n",
       "<style scoped>\n",
       "    .dataframe tbody tr th:only-of-type {\n",
       "        vertical-align: middle;\n",
       "    }\n",
       "\n",
       "    .dataframe tbody tr th {\n",
       "        vertical-align: top;\n",
       "    }\n",
       "\n",
       "    .dataframe thead th {\n",
       "        text-align: right;\n",
       "    }\n",
       "</style>\n",
       "<table border=\"1\" class=\"dataframe\">\n",
       "  <thead>\n",
       "    <tr style=\"text-align: right;\">\n",
       "      <th></th>\n",
       "      <th>android_check</th>\n",
       "      <th>gender</th>\n",
       "      <th>is_young</th>\n",
       "      <th>activity</th>\n",
       "    </tr>\n",
       "  </thead>\n",
       "  <tbody>\n",
       "    <tr>\n",
       "      <th>0</th>\n",
       "      <td>Android</td>\n",
       "      <td>F</td>\n",
       "      <td>0</td>\n",
       "      <td>157</td>\n",
       "    </tr>\n",
       "    <tr>\n",
       "      <th>1</th>\n",
       "      <td>Android</td>\n",
       "      <td>F</td>\n",
       "      <td>1</td>\n",
       "      <td>98</td>\n",
       "    </tr>\n",
       "    <tr>\n",
       "      <th>2</th>\n",
       "      <td>Android</td>\n",
       "      <td>M</td>\n",
       "      <td>0</td>\n",
       "      <td>52</td>\n",
       "    </tr>\n",
       "    <tr>\n",
       "      <th>3</th>\n",
       "      <td>Android</td>\n",
       "      <td>M</td>\n",
       "      <td>1</td>\n",
       "      <td>37</td>\n",
       "    </tr>\n",
       "    <tr>\n",
       "      <th>4</th>\n",
       "      <td>iPhone</td>\n",
       "      <td>F</td>\n",
       "      <td>0</td>\n",
       "      <td>270</td>\n",
       "    </tr>\n",
       "    <tr>\n",
       "      <th>5</th>\n",
       "      <td>iPhone</td>\n",
       "      <td>F</td>\n",
       "      <td>1</td>\n",
       "      <td>344</td>\n",
       "    </tr>\n",
       "    <tr>\n",
       "      <th>6</th>\n",
       "      <td>iPhone</td>\n",
       "      <td>M</td>\n",
       "      <td>0</td>\n",
       "      <td>94</td>\n",
       "    </tr>\n",
       "    <tr>\n",
       "      <th>7</th>\n",
       "      <td>iPhone</td>\n",
       "      <td>M</td>\n",
       "      <td>1</td>\n",
       "      <td>84</td>\n",
       "    </tr>\n",
       "  </tbody>\n",
       "</table>\n",
       "</div>"
      ],
      "text/plain": [
       "  android_check gender  is_young  activity\n",
       "0       Android      F         0       157\n",
       "1       Android      F         1        98\n",
       "2       Android      M         0        52\n",
       "3       Android      M         1        37\n",
       "4        iPhone      F         0       270\n",
       "5        iPhone      F         1       344\n",
       "6        iPhone      M         0        94\n",
       "7        iPhone      M         1        84"
      ]
     },
     "execution_count": 8,
     "metadata": {},
     "output_type": "execute_result"
    }
   ],
   "source": [
    "distribs = baseline.groupby(['android_check', 'gender', 'is_young'], as_index=False)['activity'].count()\n",
    "distribs"
   ]
  },
  {
   "cell_type": "code",
   "execution_count": 9,
   "metadata": {},
   "outputs": [
    {
     "data": {
      "text/plain": [
       "android_check\n",
       "Android    344\n",
       "iPhone     792\n",
       "Name: activity, dtype: int64"
      ]
     },
     "execution_count": 9,
     "metadata": {},
     "output_type": "execute_result"
    }
   ],
   "source": [
    "distribs.groupby('android_check')['activity'].sum()"
   ]
  },
  {
   "cell_type": "code",
   "execution_count": 10,
   "metadata": {},
   "outputs": [
    {
     "data": {
      "text/html": [
       "<div>\n",
       "<style scoped>\n",
       "    .dataframe tbody tr th:only-of-type {\n",
       "        vertical-align: middle;\n",
       "    }\n",
       "\n",
       "    .dataframe tbody tr th {\n",
       "        vertical-align: top;\n",
       "    }\n",
       "\n",
       "    .dataframe thead th {\n",
       "        text-align: right;\n",
       "    }\n",
       "</style>\n",
       "<table border=\"1\" class=\"dataframe\">\n",
       "  <thead>\n",
       "    <tr style=\"text-align: right;\">\n",
       "      <th></th>\n",
       "      <th>android_check</th>\n",
       "      <th>gender</th>\n",
       "      <th>is_young</th>\n",
       "      <th>activity</th>\n",
       "      <th>total</th>\n",
       "      <th>frac</th>\n",
       "    </tr>\n",
       "  </thead>\n",
       "  <tbody>\n",
       "    <tr>\n",
       "      <th>0</th>\n",
       "      <td>Android</td>\n",
       "      <td>F</td>\n",
       "      <td>0</td>\n",
       "      <td>157</td>\n",
       "      <td>350</td>\n",
       "      <td>0.448571</td>\n",
       "    </tr>\n",
       "    <tr>\n",
       "      <th>1</th>\n",
       "      <td>Android</td>\n",
       "      <td>F</td>\n",
       "      <td>1</td>\n",
       "      <td>98</td>\n",
       "      <td>350</td>\n",
       "      <td>0.280000</td>\n",
       "    </tr>\n",
       "    <tr>\n",
       "      <th>2</th>\n",
       "      <td>Android</td>\n",
       "      <td>M</td>\n",
       "      <td>0</td>\n",
       "      <td>52</td>\n",
       "      <td>350</td>\n",
       "      <td>0.148571</td>\n",
       "    </tr>\n",
       "    <tr>\n",
       "      <th>3</th>\n",
       "      <td>Android</td>\n",
       "      <td>M</td>\n",
       "      <td>1</td>\n",
       "      <td>37</td>\n",
       "      <td>350</td>\n",
       "      <td>0.105714</td>\n",
       "    </tr>\n",
       "    <tr>\n",
       "      <th>4</th>\n",
       "      <td>iPhone</td>\n",
       "      <td>F</td>\n",
       "      <td>0</td>\n",
       "      <td>270</td>\n",
       "      <td>800</td>\n",
       "      <td>0.337500</td>\n",
       "    </tr>\n",
       "    <tr>\n",
       "      <th>5</th>\n",
       "      <td>iPhone</td>\n",
       "      <td>F</td>\n",
       "      <td>1</td>\n",
       "      <td>344</td>\n",
       "      <td>800</td>\n",
       "      <td>0.430000</td>\n",
       "    </tr>\n",
       "    <tr>\n",
       "      <th>6</th>\n",
       "      <td>iPhone</td>\n",
       "      <td>M</td>\n",
       "      <td>0</td>\n",
       "      <td>94</td>\n",
       "      <td>800</td>\n",
       "      <td>0.117500</td>\n",
       "    </tr>\n",
       "    <tr>\n",
       "      <th>7</th>\n",
       "      <td>iPhone</td>\n",
       "      <td>M</td>\n",
       "      <td>1</td>\n",
       "      <td>84</td>\n",
       "      <td>800</td>\n",
       "      <td>0.105000</td>\n",
       "    </tr>\n",
       "  </tbody>\n",
       "</table>\n",
       "</div>"
      ],
      "text/plain": [
       "  android_check gender  is_young  activity  total      frac\n",
       "0       Android      F         0       157    350  0.448571\n",
       "1       Android      F         1        98    350  0.280000\n",
       "2       Android      M         0        52    350  0.148571\n",
       "3       Android      M         1        37    350  0.105714\n",
       "4        iPhone      F         0       270    800  0.337500\n",
       "5        iPhone      F         1       344    800  0.430000\n",
       "6        iPhone      M         0        94    800  0.117500\n",
       "7        iPhone      M         1        84    800  0.105000"
      ]
     },
     "execution_count": 10,
     "metadata": {},
     "output_type": "execute_result"
    }
   ],
   "source": [
    "distribs['total'] = np.where(distribs['android_check'] == 'Android', 350, 800)\n",
    "distribs['frac'] = distribs['activity'] / distribs['total']\n",
    "distribs"
   ]
  },
  {
   "cell_type": "code",
   "execution_count": 11,
   "metadata": {},
   "outputs": [],
   "source": [
    "def match_sample(baseline_iphone, baseline_android):\n",
    "\tfor gender in ['F', 'M']:\n",
    "\t\tfor is_young in [1, 0]:\n",
    "\t\t\tandroid_num = baseline_android.loc[(baseline_android['gender'] == gender) & (baseline_android['is_young'] == is_young), :].shape[0]\n",
    "\t\t\tiphone_samp = baseline_iphone.loc[(baseline_iphone['gender'] == gender) & (baseline_iphone['is_young'] == is_young), :].sample(android_num)\n",
    "\t\t\tyield iphone_samp"
   ]
  },
  {
   "cell_type": "code",
   "execution_count": 12,
   "metadata": {},
   "outputs": [
    {
     "data": {
      "text/plain": [
       "(1136, 7)"
      ]
     },
     "execution_count": 12,
     "metadata": {},
     "output_type": "execute_result"
    }
   ],
   "source": [
    "baseline.shape"
   ]
  },
  {
   "cell_type": "code",
   "execution_count": 13,
   "metadata": {},
   "outputs": [
    {
     "data": {
      "text/html": [
       "<div>\n",
       "<style scoped>\n",
       "    .dataframe tbody tr th:only-of-type {\n",
       "        vertical-align: middle;\n",
       "    }\n",
       "\n",
       "    .dataframe tbody tr th {\n",
       "        vertical-align: top;\n",
       "    }\n",
       "\n",
       "    .dataframe thead th {\n",
       "        text-align: right;\n",
       "    }\n",
       "</style>\n",
       "<table border=\"1\" class=\"dataframe\">\n",
       "  <thead>\n",
       "    <tr style=\"text-align: right;\">\n",
       "      <th></th>\n",
       "      <th>android_check</th>\n",
       "      <th>gender</th>\n",
       "      <th>is_young</th>\n",
       "      <th>activity</th>\n",
       "    </tr>\n",
       "  </thead>\n",
       "  <tbody>\n",
       "    <tr>\n",
       "      <th>0</th>\n",
       "      <td>Android</td>\n",
       "      <td>F</td>\n",
       "      <td>0</td>\n",
       "      <td>157</td>\n",
       "    </tr>\n",
       "    <tr>\n",
       "      <th>1</th>\n",
       "      <td>Android</td>\n",
       "      <td>F</td>\n",
       "      <td>1</td>\n",
       "      <td>98</td>\n",
       "    </tr>\n",
       "    <tr>\n",
       "      <th>2</th>\n",
       "      <td>Android</td>\n",
       "      <td>M</td>\n",
       "      <td>0</td>\n",
       "      <td>52</td>\n",
       "    </tr>\n",
       "    <tr>\n",
       "      <th>3</th>\n",
       "      <td>Android</td>\n",
       "      <td>M</td>\n",
       "      <td>1</td>\n",
       "      <td>37</td>\n",
       "    </tr>\n",
       "    <tr>\n",
       "      <th>4</th>\n",
       "      <td>iPhone</td>\n",
       "      <td>F</td>\n",
       "      <td>0</td>\n",
       "      <td>157</td>\n",
       "    </tr>\n",
       "    <tr>\n",
       "      <th>5</th>\n",
       "      <td>iPhone</td>\n",
       "      <td>F</td>\n",
       "      <td>1</td>\n",
       "      <td>98</td>\n",
       "    </tr>\n",
       "    <tr>\n",
       "      <th>6</th>\n",
       "      <td>iPhone</td>\n",
       "      <td>M</td>\n",
       "      <td>0</td>\n",
       "      <td>52</td>\n",
       "    </tr>\n",
       "    <tr>\n",
       "      <th>7</th>\n",
       "      <td>iPhone</td>\n",
       "      <td>M</td>\n",
       "      <td>1</td>\n",
       "      <td>37</td>\n",
       "    </tr>\n",
       "  </tbody>\n",
       "</table>\n",
       "</div>"
      ],
      "text/plain": [
       "  android_check gender  is_young  activity\n",
       "0       Android      F         0       157\n",
       "1       Android      F         1        98\n",
       "2       Android      M         0        52\n",
       "3       Android      M         1        37\n",
       "4        iPhone      F         0       157\n",
       "5        iPhone      F         1        98\n",
       "6        iPhone      M         0        52\n",
       "7        iPhone      M         1        37"
      ]
     },
     "execution_count": 13,
     "metadata": {},
     "output_type": "execute_result"
    }
   ],
   "source": [
    "baseline_android = baseline.loc[baseline['android_check'] == 'Android', :]\n",
    "\n",
    "baseline_iphone = baseline.loc[baseline['android_check'] == 'iPhone', :]\n",
    "baseline_iphone_downsamp = pd.concat([samp for samp in match_sample(baseline_iphone, baseline_android)])\n",
    "\n",
    "baseline_matched = pd.concat([baseline_android, baseline_iphone_downsamp])\n",
    "baseline_matched.groupby(['android_check', 'gender', 'is_young'], as_index=False)['activity'].count()"
   ]
  },
  {
   "cell_type": "code",
   "execution_count": 14,
   "metadata": {},
   "outputs": [
    {
     "data": {
      "text/plain": [
       "(688, 209)"
      ]
     },
     "execution_count": 14,
     "metadata": {},
     "output_type": "execute_result"
    }
   ],
   "source": [
    "activities = ['\"{}\"'.format(activity) for activity in baseline_matched.activity.to_numpy()]\n",
    "df = pd.read_sql('SELECT * FROM baseline_data_targ WHERE activity IN ({})'.format(', '.join(activities)), eng)\n",
    "df.shape"
   ]
  },
  {
   "cell_type": "code",
   "execution_count": 15,
   "metadata": {},
   "outputs": [
    {
     "data": {
      "text/plain": [
       "android_check\n",
       "1.0    344\n",
       "2.0    344\n",
       "Name: android_check, dtype: int64"
      ]
     },
     "execution_count": 15,
     "metadata": {},
     "output_type": "execute_result"
    }
   ],
   "source": [
    "df.groupby('android_check')['android_check'].count()"
   ]
  },
  {
   "cell_type": "code",
   "execution_count": 17,
   "metadata": {},
   "outputs": [
    {
     "data": {
      "text/plain": [
       "has_fb\n",
       "0    155\n",
       "1    189\n",
       "Name: has_fb, dtype: int64"
      ]
     },
     "execution_count": 17,
     "metadata": {},
     "output_type": "execute_result"
    }
   ],
   "source": [
    "df['has_fb'] = np.where(pd.notnull(df['fb_user_id']), 1, 0)\n",
    "df.loc[df.android_check == 2.0, :].groupby('has_fb')['has_fb'].count()"
   ]
  },
  {
   "cell_type": "code",
   "execution_count": 18,
   "metadata": {},
   "outputs": [],
   "source": [
    "activities_android = ['\"{}\"'.format(activity) for activity in baseline_android.activity.to_numpy()]\n",
    "activities_iphone = ['\"{}\"'.format(activity) for activity in baseline_iphone_downsamp.activity.to_numpy()]\n",
    "with eng.connect() as con:\n",
    "\tcon.execute('CREATE TABLE baseline_android AS SELECT * FROM baseline_data_targ WHERE activity IN ({})'.format(', '.join(activities_android)))\n",
    "\tcon.execute('CREATE TABLE baseline_iphone AS SELECT * FROM baseline_data_targ WHERE activity IN ({})'.format(', '.join(activities_iphone)))"
   ]
  }
 ],
 "metadata": {
  "interpreter": {
   "hash": "f717182cd937d1a3989485cce28dd3d604f101054372e8b3e77aef90f064944b"
  },
  "kernelspec": {
   "display_name": "Python 3.5.2 64-bit ('venv': virtualenv)",
   "name": "python3"
  },
  "language_info": {
   "codemirror_mode": {
    "name": "ipython",
    "version": 3
   },
   "file_extension": ".py",
   "mimetype": "text/x-python",
   "name": "python",
   "nbconvert_exporter": "python",
   "pygments_lexer": "ipython3",
   "version": "3.5.2"
  },
  "orig_nbformat": 4
 },
 "nbformat": 4,
 "nbformat_minor": 2
}
